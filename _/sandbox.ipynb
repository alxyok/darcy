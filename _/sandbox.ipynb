{
 "cells": [
  {
   "cell_type": "code",
   "execution_count": 1,
   "id": "88cfad91-c1e4-4c20-a3eb-1d3e2051cf02",
   "metadata": {},
   "outputs": [
    {
     "data": {
      "text/plain": [
       "'1.10.0+cpu'"
      ]
     },
     "execution_count": 1,
     "metadata": {},
     "output_type": "execute_result"
    }
   ],
   "source": [
    "import torch\n",
    "torch.__version__"
   ]
  },
  {
   "cell_type": "code",
   "execution_count": 2,
   "id": "96210943-a31a-4b73-b8d7-f9713ebe2716",
   "metadata": {},
   "outputs": [],
   "source": [
    "import jax\n",
    "import jax.numpy as jnp"
   ]
  },
  {
   "cell_type": "code",
   "execution_count": 3,
   "id": "7c853277-f5fd-41aa-9f24-8f51063eebb6",
   "metadata": {},
   "outputs": [
    {
     "data": {
      "text/plain": [
       "'0.2.25'"
      ]
     },
     "execution_count": 3,
     "metadata": {},
     "output_type": "execute_result"
    }
   ],
   "source": [
    "jax.__version__"
   ]
  },
  {
   "cell_type": "code",
   "execution_count": 4,
   "id": "27465660-c55f-472c-8359-483bf02b3b5b",
   "metadata": {},
   "outputs": [
    {
     "data": {
      "text/plain": [
       "<module 'jax.numpy' from '/opt/conda/lib/python3.7/site-packages/jax/numpy/__init__.py'>"
      ]
     },
     "execution_count": 4,
     "metadata": {},
     "output_type": "execute_result"
    }
   ],
   "source": [
    "jnp"
   ]
  },
  {
   "cell_type": "code",
   "execution_count": 5,
   "id": "17150e97-c435-4f38-a6c4-0bb07499c5d2",
   "metadata": {},
   "outputs": [
    {
     "name": "stderr",
     "output_type": "stream",
     "text": [
      "WARNING:absl:No GPU/TPU found, falling back to CPU. (Set TF_CPP_MIN_LOG_LEVEL=0 and rerun for more info.)\n"
     ]
    },
    {
     "data": {
      "text/plain": [
       "DeviceArray([ 0, 42], dtype=uint32)"
      ]
     },
     "execution_count": 5,
     "metadata": {},
     "output_type": "execute_result"
    }
   ],
   "source": [
    "key = jax.random.PRNGKey(42)\n",
    "key"
   ]
  },
  {
   "cell_type": "code",
   "execution_count": 6,
   "id": "78201b4b-25f6-4cb6-b55a-945dec5bc390",
   "metadata": {},
   "outputs": [],
   "source": [
    "xi = jax.random.normal(key, shape=(2048, 1))"
   ]
  },
  {
   "cell_type": "code",
   "execution_count": 7,
   "id": "bd0a29a8-8269-4195-a5e4-25d6a48ffeb2",
   "metadata": {},
   "outputs": [
    {
     "data": {
      "text/plain": [
       "DeviceArray(0.00068037, dtype=float32)"
      ]
     },
     "execution_count": 7,
     "metadata": {},
     "output_type": "execute_result"
    }
   ],
   "source": [
    "xi.mean()"
   ]
  },
  {
   "cell_type": "code",
   "execution_count": 8,
   "id": "dcb9e50a-cb05-4bfd-88f8-6b2ac061d181",
   "metadata": {},
   "outputs": [],
   "source": [
    "import numpy as np\n",
    "import scipy"
   ]
  },
  {
   "cell_type": "code",
   "execution_count": 9,
   "id": "96e49144-ad12-445c-8f91-172b6be17869",
   "metadata": {},
   "outputs": [
    {
     "data": {
      "text/plain": [
       "(256, 256)"
      ]
     },
     "execution_count": 9,
     "metadata": {},
     "output_type": "execute_result"
    }
   ],
   "source": [
    "init_seed = 42\n",
    "size = 256\n",
    "\n",
    "key = jax.random.PRNGKey(init_seed)\n",
    "xi = jax.random.normal(key, shape=(size, 1))\n",
    "\n",
    "x = jnp.linspace(0, size - 1, num=size, dtype=int)\n",
    "y = jnp.linspace(0, size - 1, num=size, dtype=int)\n",
    "k1, k2 = jnp.meshgrid(x, y)\n",
    "\n",
    "alpha = 2\n",
    "tau = 3\n",
    "\n",
    "coef = tau ** (alpha - 1) * (np.pi ** 2 * (k1 ** 2 + k2 ** 2) + tau ** 2) ** (-alpha / 2)\n",
    "L = size * coef * xi\n",
    "\n",
    "L = L.at[1, 1].set(0)\n",
    "\n",
    "result = jax.scipy.fft.dct(L)\n",
    "result.shape"
   ]
  },
  {
   "cell_type": "code",
   "execution_count": 10,
   "id": "0e5b6719-0f01-4aa9-bf8d-97fc5ce04dc9",
   "metadata": {},
   "outputs": [
    {
     "data": {
      "text/plain": [
       "(256, 256)"
      ]
     },
     "execution_count": 10,
     "metadata": {},
     "output_type": "execute_result"
    }
   ],
   "source": [
    "coef.shape"
   ]
  },
  {
   "cell_type": "code",
   "execution_count": 11,
   "id": "6a4822b6-9f25-4a2d-8b44-f7ad9815032e",
   "metadata": {},
   "outputs": [
    {
     "data": {
      "text/plain": [
       "DeviceArray([  0,   1,   2,   3,   4,   5,   6,   7,   8,   9,  10,  11,\n",
       "              12,  13,  14,  15,  16,  17,  18,  19,  20,  21,  22,  23,\n",
       "              24,  25,  26,  27,  28,  29,  30,  31,  32,  33,  34,  35,\n",
       "              36,  37,  38,  39,  40,  41,  42,  43,  44,  45,  46,  47,\n",
       "              48,  49,  50,  51,  52,  53,  54,  55,  56,  57,  58,  59,\n",
       "              60,  61,  62,  63,  64,  65,  66,  67,  68,  69,  70,  71,\n",
       "              72,  73,  74,  75,  76,  77,  78,  79,  80,  81,  82,  83,\n",
       "              84,  85,  86,  87,  88,  89,  90,  91,  92,  93,  94,  95,\n",
       "              96,  97,  98,  99, 100, 101, 102, 103, 104, 105, 106, 107,\n",
       "             108, 109, 110, 111, 112, 113, 114, 115, 116, 117, 118, 119,\n",
       "             120, 121, 122, 123, 124, 125, 126, 127, 128, 129, 130, 131,\n",
       "             132, 133, 134, 135, 136, 137, 138, 139, 140, 141, 142, 143,\n",
       "             144, 145, 146, 147, 148, 149, 150, 151, 152, 153, 154, 155,\n",
       "             156, 157, 158, 159, 160, 161, 162, 163, 164, 165, 166, 167,\n",
       "             168, 169, 170, 171, 172, 173, 174, 175, 176, 177, 178, 179,\n",
       "             180, 181, 182, 183, 184, 185, 186, 187, 188, 189, 190, 191,\n",
       "             192, 193, 194, 195, 196, 197, 198, 199, 200, 201, 202, 203,\n",
       "             204, 205, 206, 207, 208, 209, 210, 211, 212, 213, 214, 215,\n",
       "             216, 217, 218, 219, 220, 221, 222, 223, 224, 225, 226, 227,\n",
       "             228, 229, 230, 231, 232, 233, 234, 235, 236, 237, 238, 239,\n",
       "             240, 241, 242, 243, 244, 245, 246, 247, 248, 249, 250, 251,\n",
       "             252, 253, 254, 255], dtype=int32)"
      ]
     },
     "execution_count": 11,
     "metadata": {},
     "output_type": "execute_result"
    }
   ],
   "source": [
    "k1[1]"
   ]
  },
  {
   "cell_type": "code",
   "execution_count": 12,
   "id": "6e1453e1-12b3-445f-be17-23860929d426",
   "metadata": {},
   "outputs": [
    {
     "data": {
      "text/plain": [
       "DeviceArray([[-4.3577606e+02, -4.3276358e+02, -4.2868890e+02, ...,\n",
       "              -5.0374043e-01, -3.3561754e-01, -1.6773775e-01],\n",
       "             [ 1.0878515e+02,  1.0722731e+02,  1.0514499e+02, ...,\n",
       "               1.9170768e+00,  1.2783842e+00,  6.3928860e-01],\n",
       "             [-1.3798648e+02, -1.3542706e+02, -1.3202864e+02, ...,\n",
       "               4.2358752e-02,  2.8240345e-02,  1.4117505e-02],\n",
       "             ...,\n",
       "             [ 5.8134389e-01,  8.4904045e-02, -7.0481044e-03, ...,\n",
       "               2.8941432e-08, -1.8491789e-08,  7.4729947e-09],\n",
       "             [ 6.6839337e-01,  9.7057305e-02, -8.1524616e-03, ...,\n",
       "               3.0995896e-08, -1.9960886e-08,  4.4583777e-09],\n",
       "             [ 6.9146261e-02,  9.9832267e-03, -8.4829697e-04, ...,\n",
       "               3.0360867e-09, -1.6949059e-09,  1.2347762e-09]],            dtype=float32)"
      ]
     },
     "execution_count": 12,
     "metadata": {},
     "output_type": "execute_result"
    }
   ],
   "source": [
    "def gaussian_random_field(alpha, tau, size):\n",
    "    \n",
    "    init_seed = 42\n",
    "    key = jax.random.PRNGKey(init_seed)\n",
    "    xi = jax.random.normal(key, shape=(size, 1))\n",
    "\n",
    "    x_lin = jnp.linspace(0, size - 1, num=size, dtype=int)\n",
    "    k1, k2 = jnp.meshgrid(x_lin, x_lin)\n",
    "\n",
    "    coef = tau ** (alpha - 1) * (np.pi ** 2 * (k1 ** 2 + k2 ** 2) + tau ** 2) ** (-alpha / 2)\n",
    "    L = size * coef * xi\n",
    "\n",
    "    L = L.at[1, 1].set(0)\n",
    "\n",
    "    result = jax.scipy.fft.dct(L)\n",
    "    \n",
    "    return result\n",
    "\n",
    "gaussian_random_field(2, 3, 256)"
   ]
  },
  {
   "cell_type": "code",
   "execution_count": 13,
   "id": "a899da62-81ea-401a-a728-87b867933b75",
   "metadata": {},
   "outputs": [],
   "source": [
    "import numpy as np"
   ]
  },
  {
   "cell_type": "code",
   "execution_count": 44,
   "id": "31d9dc42-fbbf-43eb-a161-8c5c170f28bb",
   "metadata": {},
   "outputs": [],
   "source": [
    "def solve(coef, F):\n",
    "    \n",
    "    k = 20\n",
    "    # k = len(coef)\n",
    "    \n",
    "    l1 = jnp.linspace(1 / (2 * k), (2 * k - 1) / (2 * k), num=k - 1)\n",
    "    x1, y1 = jnp.meshgrid(l1, l1)\n",
    "    # print(x1.shape)\n",
    "    # print(x1)\n",
    "    \n",
    "    l2 = jnp.linspace(0, 1, num=k - 1)\n",
    "    x2, y2 = jnp.meshgrid(l2, l2)\n",
    "    \n",
    "    points = jnp.vstack((\n",
    "        jnp.reshape(x1, (1, -1)),\n",
    "        jnp.reshape(y1, (1, -1))))\n",
    "    xi = jnp.vstack((\n",
    "        jnp.reshape(x2, (1, -1)),\n",
    "        jnp.reshape(y2, (1, -1))))\n",
    "    l = x1.shape[0] * x1.shape[1]\n",
    "    values = np.reshape(np.random.rand(l), (1, -1))\n",
    "    print(points.shape)\n",
    "    print(values.shape)\n",
    "    coef = scipy.interpolate.griddata(points=np.asarray(points).T,#(np.asarray(jnp.reshape(x1, ,\n",
    "                               values=values.T,\n",
    "                               xi=xi.T,\n",
    "                               method='cubic')\n",
    "    \n",
    "    coef = jax.scipy.ndimage.map_coordinates(input, coordinates, order, mode='constant', cval=0.0)"
   ]
  },
  {
   "cell_type": "code",
   "execution_count": 45,
   "id": "7efb4647-5755-463b-86b9-15413b2a6476",
   "metadata": {},
   "outputs": [
    {
     "name": "stdout",
     "output_type": "stream",
     "text": [
      "(2, 361)\n",
      "(1, 361)\n"
     ]
    },
    {
     "ename": "NameError",
     "evalue": "name 'coordinates' is not defined",
     "output_type": "error",
     "traceback": [
      "\u001b[0;31m---------------------------------------------------------------------------\u001b[0m",
      "\u001b[0;31mNameError\u001b[0m                                 Traceback (most recent call last)",
      "\u001b[0;32m/tmp/ipykernel_3118/239638506.py\u001b[0m in \u001b[0;36m<module>\u001b[0;34m\u001b[0m\n\u001b[0;32m----> 1\u001b[0;31m \u001b[0msolve\u001b[0m\u001b[0;34m(\u001b[0m\u001b[0;32mNone\u001b[0m\u001b[0;34m,\u001b[0m \u001b[0;32mNone\u001b[0m\u001b[0;34m)\u001b[0m\u001b[0;34m\u001b[0m\u001b[0;34m\u001b[0m\u001b[0m\n\u001b[0m",
      "\u001b[0;32m/tmp/ipykernel_3118/2644068144.py\u001b[0m in \u001b[0;36msolve\u001b[0;34m(coef, F)\u001b[0m\n\u001b[1;32m     27\u001b[0m                                method='cubic')\n\u001b[1;32m     28\u001b[0m \u001b[0;34m\u001b[0m\u001b[0m\n\u001b[0;32m---> 29\u001b[0;31m     \u001b[0mcoef\u001b[0m \u001b[0;34m=\u001b[0m \u001b[0mjax\u001b[0m\u001b[0;34m.\u001b[0m\u001b[0mscipy\u001b[0m\u001b[0;34m.\u001b[0m\u001b[0mndimage\u001b[0m\u001b[0;34m.\u001b[0m\u001b[0mmap_coordinates\u001b[0m\u001b[0;34m(\u001b[0m\u001b[0minput\u001b[0m\u001b[0;34m,\u001b[0m \u001b[0mcoordinates\u001b[0m\u001b[0;34m,\u001b[0m \u001b[0morder\u001b[0m\u001b[0;34m,\u001b[0m \u001b[0mmode\u001b[0m\u001b[0;34m=\u001b[0m\u001b[0;34m'constant'\u001b[0m\u001b[0;34m,\u001b[0m \u001b[0mcval\u001b[0m\u001b[0;34m=\u001b[0m\u001b[0;36m0.0\u001b[0m\u001b[0;34m)\u001b[0m\u001b[0;34m\u001b[0m\u001b[0;34m\u001b[0m\u001b[0m\n\u001b[0m",
      "\u001b[0;31mNameError\u001b[0m: name 'coordinates' is not defined"
     ]
    }
   ],
   "source": [
    "solve(None, None)"
   ]
  },
  {
   "cell_type": "code",
   "execution_count": null,
   "id": "fe935c9d-da18-46af-b3f2-4933ff7176bf",
   "metadata": {},
   "outputs": [],
   "source": []
  },
  {
   "cell_type": "code",
   "execution_count": null,
   "id": "b7ba220e-f1a5-4dfa-9563-cc36825ede26",
   "metadata": {},
   "outputs": [],
   "source": []
  },
  {
   "cell_type": "code",
   "execution_count": 35,
   "id": "d6ce4919-2fab-4ab7-871e-61f384c4fbf5",
   "metadata": {},
   "outputs": [],
   "source": [
    "def func(x, y):\n",
    "    return x*(1-x)*np.cos(4*np.pi*x) * np.sin(4*np.pi*y**2)**2\n",
    "\n",
    "grid_x, grid_y = np.mgrid[0:1:100j, 0:1:200j]\n",
    "\n",
    "rng = np.random.default_rng()\n",
    "points = rng.random((1000, 2))\n",
    "values = func(points[:,0], points[:,1])\n",
    "\n",
    "from scipy.interpolate import griddata\n",
    "grid_z0 = griddata(points, values, (grid_x, grid_y), method='nearest')"
   ]
  },
  {
   "cell_type": "code",
   "execution_count": 37,
   "id": "598daab7-381c-4dc7-92bc-c88cdfd47ae6",
   "metadata": {},
   "outputs": [
    {
     "data": {
      "text/plain": [
       "(100, 200)"
      ]
     },
     "execution_count": 37,
     "metadata": {},
     "output_type": "execute_result"
    }
   ],
   "source": [
    "grid_x.shape"
   ]
  },
  {
   "cell_type": "code",
   "execution_count": 38,
   "id": "c3870323-5f83-4fbe-a246-7e80f0b06775",
   "metadata": {},
   "outputs": [
    {
     "data": {
      "text/plain": [
       "(1000, 2)"
      ]
     },
     "execution_count": 38,
     "metadata": {},
     "output_type": "execute_result"
    }
   ],
   "source": [
    "points.shape"
   ]
  },
  {
   "cell_type": "code",
   "execution_count": 39,
   "id": "34b7c429-840e-4855-b56c-2131d8498202",
   "metadata": {},
   "outputs": [
    {
     "data": {
      "text/plain": [
       "(1000,)"
      ]
     },
     "execution_count": 39,
     "metadata": {},
     "output_type": "execute_result"
    }
   ],
   "source": [
    "values.shape"
   ]
  },
  {
   "cell_type": "code",
   "execution_count": null,
   "id": "02b1cb95-14b8-4f62-8bf9-2e3c6e215a1c",
   "metadata": {},
   "outputs": [],
   "source": []
  }
 ],
 "metadata": {
  "environment": {
   "kernel": "python3",
   "name": "pytorch-gpu.1-9.m82",
   "type": "gcloud",
   "uri": "gcr.io/deeplearning-platform-release/pytorch-gpu.1-9:m82"
  },
  "kernelspec": {
   "display_name": "Python 3",
   "language": "python",
   "name": "python3"
  },
  "language_info": {
   "codemirror_mode": {
    "name": "ipython",
    "version": 3
   },
   "file_extension": ".py",
   "mimetype": "text/x-python",
   "name": "python",
   "nbconvert_exporter": "python",
   "pygments_lexer": "ipython3",
   "version": "3.7.10"
  }
 },
 "nbformat": 4,
 "nbformat_minor": 5
}
